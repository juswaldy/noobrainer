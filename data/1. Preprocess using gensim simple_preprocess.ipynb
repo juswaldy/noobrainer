{
 "cells": [
  {
   "cell_type": "markdown",
   "metadata": {},
   "source": [
    "# Preprocess using gensim simple_preprocess\n",
    "\n",
    "Generate 3 files from news2.7m:\n",
    "- news2.7m-gensim-titles.csv\n",
    "- news2.7m-gensim-articles.csv\n",
    "- news2.7m-gensim-metadata.csv\n",
    "\n",
    "Process:\n",
    "1. Drop bad row (1)\n",
    "2. Drop null titles (37)\n",
    "3. We will have 2688841 rows\n",
    "4. Tokenize titles and save csv\n",
    "5. Drop null articles and we will have 2584149 rows\n",
    "6. Tokenize articles and save csv\n",
    "7. Redo 1 and 2, drop `title` and `article` columns\n",
    "8. Augment with time columns and save metadata csv"
   ]
  },
  {
   "cell_type": "code",
   "execution_count": 1,
   "metadata": {},
   "outputs": [],
   "source": [
    "import pandas as pd\n",
    "from gensim.models.doc2vec import TaggedDocument\n",
    "from gensim.utils import simple_preprocess\n",
    "from gensim.parsing.preprocessing import strip_tags\n",
    "import sys\n",
    "sys.path.append('../')\n",
    "from utils.tomo import *\n",
    "pd.set_option('display.max_rows', 250)\n",
    "pd.set_option('display.max_colwidth', 140)"
   ]
  },
  {
   "cell_type": "markdown",
   "metadata": {},
   "source": [
    "## Read source"
   ]
  },
  {
   "cell_type": "code",
   "execution_count": 2,
   "metadata": {},
   "outputs": [],
   "source": [
    "df = pd.read_csv('all-the-news-2-1.csv', low_memory=False)"
   ]
  },
  {
   "cell_type": "code",
   "execution_count": 3,
   "metadata": {},
   "outputs": [
    {
     "data": {
      "text/plain": [
       "2688879"
      ]
     },
     "execution_count": 3,
     "metadata": {},
     "output_type": "execute_result"
    }
   ],
   "source": [
    "len(df)"
   ]
  },
  {
   "cell_type": "code",
   "execution_count": 4,
   "metadata": {},
   "outputs": [
    {
     "data": {
      "text/plain": [
       "Index(['Unnamed: 0.1', 'Unnamed: 0', 'date', 'year', 'month', 'day', 'author',\n",
       "       'title', 'article', 'url', 'section', 'publication'],\n",
       "      dtype='object')"
      ]
     },
     "execution_count": 4,
     "metadata": {},
     "output_type": "execute_result"
    }
   ],
   "source": [
    "df.columns"
   ]
  },
  {
   "cell_type": "code",
   "execution_count": 5,
   "metadata": {},
   "outputs": [
    {
     "data": {
      "text/plain": [
       "2424619    12577\n",
       "0              1\n",
       "1784206        1\n",
       "1784199        1\n",
       "1784200        1\n",
       "           ...  \n",
       "892101         1\n",
       "892102         1\n",
       "892103         1\n",
       "892104         1\n",
       "2790033        1\n",
       "Name: Unnamed: 0, Length: 2676303, dtype: int64"
      ]
     },
     "execution_count": 5,
     "metadata": {},
     "output_type": "execute_result"
    }
   ],
   "source": [
    "df['Unnamed: 0'].value_counts()"
   ]
  },
  {
   "cell_type": "code",
   "execution_count": 6,
   "metadata": {},
   "outputs": [
    {
     "data": {
      "text/plain": [
       "0          1\n",
       "1792580    1\n",
       "1792582    1\n",
       "1792583    1\n",
       "1792584    1\n",
       "          ..\n",
       "896293     1\n",
       "896294     1\n",
       "896295     1\n",
       "896296     1\n",
       "2789273    1\n",
       "Name: Unnamed: 0.1, Length: 2688879, dtype: int64"
      ]
     },
     "execution_count": 6,
     "metadata": {},
     "output_type": "execute_result"
    }
   ],
   "source": [
    "df['Unnamed: 0.1'].value_counts()"
   ]
  },
  {
   "cell_type": "markdown",
   "metadata": {},
   "source": [
    "## Drop unused column"
   ]
  },
  {
   "cell_type": "code",
   "execution_count": 7,
   "metadata": {},
   "outputs": [],
   "source": [
    "df.drop('Unnamed: 0', axis=1, inplace=True)"
   ]
  },
  {
   "cell_type": "code",
   "execution_count": 8,
   "metadata": {},
   "outputs": [],
   "source": [
    "df.rename(columns={'Unnamed: 0.1': 'id'}, inplace=True)"
   ]
  },
  {
   "cell_type": "markdown",
   "metadata": {},
   "source": [
    "## Make an id column"
   ]
  },
  {
   "cell_type": "code",
   "execution_count": 9,
   "metadata": {},
   "outputs": [],
   "source": [
    "df['nan'] = pd.to_numeric(df.id, errors='coerce').isnull()"
   ]
  },
  {
   "cell_type": "code",
   "execution_count": 10,
   "metadata": {},
   "outputs": [
    {
     "data": {
      "text/html": [
       "<div>\n",
       "<style scoped>\n",
       "    .dataframe tbody tr th:only-of-type {\n",
       "        vertical-align: middle;\n",
       "    }\n",
       "\n",
       "    .dataframe tbody tr th {\n",
       "        vertical-align: top;\n",
       "    }\n",
       "\n",
       "    .dataframe thead th {\n",
       "        text-align: right;\n",
       "    }\n",
       "</style>\n",
       "<table border=\"1\" class=\"dataframe\">\n",
       "  <thead>\n",
       "    <tr style=\"text-align: right;\">\n",
       "      <th></th>\n",
       "      <th>id</th>\n",
       "      <th>date</th>\n",
       "      <th>year</th>\n",
       "      <th>month</th>\n",
       "      <th>day</th>\n",
       "      <th>author</th>\n",
       "      <th>title</th>\n",
       "      <th>article</th>\n",
       "      <th>url</th>\n",
       "      <th>section</th>\n",
       "      <th>publication</th>\n",
       "      <th>nan</th>\n",
       "    </tr>\n",
       "  </thead>\n",
       "  <tbody>\n",
       "  </tbody>\n",
       "</table>\n",
       "</div>"
      ],
      "text/plain": [
       "Empty DataFrame\n",
       "Columns: [id, date, year, month, day, author, title, article, url, section, publication, nan]\n",
       "Index: []"
      ]
     },
     "execution_count": 10,
     "metadata": {},
     "output_type": "execute_result"
    }
   ],
   "source": [
    "df.loc[df.nan==True]"
   ]
  },
  {
   "cell_type": "code",
   "execution_count": 11,
   "metadata": {},
   "outputs": [],
   "source": [
    "df.drop(df.loc[df.nan==True].index, inplace=True)"
   ]
  },
  {
   "cell_type": "code",
   "execution_count": 12,
   "metadata": {},
   "outputs": [
    {
     "data": {
      "text/plain": [
       "2688879"
      ]
     },
     "execution_count": 12,
     "metadata": {},
     "output_type": "execute_result"
    }
   ],
   "source": [
    "len(df)"
   ]
  },
  {
   "cell_type": "code",
   "execution_count": 13,
   "metadata": {},
   "outputs": [],
   "source": [
    "df.drop('nan', axis=1, inplace=True)"
   ]
  },
  {
   "cell_type": "markdown",
   "metadata": {},
   "source": [
    "## Drop null dated row"
   ]
  },
  {
   "cell_type": "code",
   "execution_count": 14,
   "metadata": {},
   "outputs": [
    {
     "data": {
      "text/html": [
       "<div>\n",
       "<style scoped>\n",
       "    .dataframe tbody tr th:only-of-type {\n",
       "        vertical-align: middle;\n",
       "    }\n",
       "\n",
       "    .dataframe tbody tr th {\n",
       "        vertical-align: top;\n",
       "    }\n",
       "\n",
       "    .dataframe thead th {\n",
       "        text-align: right;\n",
       "    }\n",
       "</style>\n",
       "<table border=\"1\" class=\"dataframe\">\n",
       "  <thead>\n",
       "    <tr style=\"text-align: right;\">\n",
       "      <th></th>\n",
       "      <th>id</th>\n",
       "      <th>date</th>\n",
       "      <th>year</th>\n",
       "      <th>month</th>\n",
       "      <th>day</th>\n",
       "      <th>author</th>\n",
       "      <th>title</th>\n",
       "      <th>article</th>\n",
       "      <th>url</th>\n",
       "      <th>section</th>\n",
       "      <th>publication</th>\n",
       "    </tr>\n",
       "  </thead>\n",
       "  <tbody>\n",
       "    <tr>\n",
       "      <th>2324811</th>\n",
       "      <td>2424832</td>\n",
       "      <td>NaN</td>\n",
       "      <td>https://www.washingtonpost.com/outlook/tale-of-a-woman-who-died-and-a-woman-who-killed-in-the-northern-ireland-conflict/2019/03/08/59e75...</td>\n",
       "      <td>NaN</td>\n",
       "      <td>Washington Post</td>\n",
       "      <td>NaN</td>\n",
       "      <td>NaN</td>\n",
       "      <td>NaN</td>\n",
       "      <td>NaN</td>\n",
       "      <td>NaN</td>\n",
       "      <td>NaN</td>\n",
       "    </tr>\n",
       "  </tbody>\n",
       "</table>\n",
       "</div>"
      ],
      "text/plain": [
       "              id date  \\\n",
       "2324811  2424832  NaN   \n",
       "\n",
       "                                                                                                                                                year  \\\n",
       "2324811  https://www.washingtonpost.com/outlook/tale-of-a-woman-who-died-and-a-woman-who-killed-in-the-northern-ireland-conflict/2019/03/08/59e75...   \n",
       "\n",
       "         month              day author title article  url section publication  \n",
       "2324811    NaN  Washington Post    NaN   NaN     NaN  NaN     NaN         NaN  "
      ]
     },
     "execution_count": 14,
     "metadata": {},
     "output_type": "execute_result"
    }
   ],
   "source": [
    "df[df.date.isnull()]"
   ]
  },
  {
   "cell_type": "code",
   "execution_count": 15,
   "metadata": {},
   "outputs": [],
   "source": [
    "df.drop(df.loc[df.date.isnull()].index, inplace=True)"
   ]
  },
  {
   "cell_type": "code",
   "execution_count": 16,
   "metadata": {},
   "outputs": [
    {
     "data": {
      "text/plain": [
       "2688878"
      ]
     },
     "execution_count": 16,
     "metadata": {},
     "output_type": "execute_result"
    }
   ],
   "source": [
    "len(df)"
   ]
  },
  {
   "cell_type": "markdown",
   "metadata": {},
   "source": [
    "## How many nulls?"
   ]
  },
  {
   "cell_type": "code",
   "execution_count": 17,
   "metadata": {},
   "outputs": [
    {
     "data": {
      "text/plain": [
       "id     date   year   month  day    author  title  article  url    section  publication\n",
       "False  False  False  False  False  False   False  False    False  False    False          946517\n",
       "                                   True    False  False    False  False    False          806893\n",
       "                                   False   False  False    False  True     False          713027\n",
       "                                   True    False  False    False  True     False          117712\n",
       "                                                  True     False  True     False           64961\n",
       "                                                                  False    False           18923\n",
       "                                                           True   True     True            12577\n",
       "                                   False   False  True     False  False    False            4267\n",
       "                                                                  True     False            3964\n",
       "                                   True    True   True     False  True     False              16\n",
       "                                                  False    False  True     False              15\n",
       "                                                  True     False  False    False               3\n",
       "                                   False   True   True     False  False    False               1\n",
       "                                                                  True     False               1\n",
       "                                   True    True   False    False  False    False               1\n",
       "dtype: int64"
      ]
     },
     "execution_count": 17,
     "metadata": {},
     "output_type": "execute_result"
    }
   ],
   "source": [
    "df.isnull().value_counts()"
   ]
  },
  {
   "cell_type": "markdown",
   "metadata": {},
   "source": [
    "## Drop null titles"
   ]
  },
  {
   "cell_type": "code",
   "execution_count": 18,
   "metadata": {
    "scrolled": true
   },
   "outputs": [
    {
     "data": {
      "text/plain": [
       "37"
      ]
     },
     "execution_count": 18,
     "metadata": {},
     "output_type": "execute_result"
    }
   ],
   "source": [
    "len(df.loc[df.title.isnull()])"
   ]
  },
  {
   "cell_type": "code",
   "execution_count": 19,
   "metadata": {},
   "outputs": [],
   "source": [
    "df.drop(df.loc[df.title.isnull()].index, inplace=True)"
   ]
  },
  {
   "cell_type": "code",
   "execution_count": 20,
   "metadata": {},
   "outputs": [
    {
     "data": {
      "text/plain": [
       "2688841"
      ]
     },
     "execution_count": 20,
     "metadata": {},
     "output_type": "execute_result"
    }
   ],
   "source": [
    "len(df)"
   ]
  },
  {
   "cell_type": "code",
   "execution_count": 21,
   "metadata": {},
   "outputs": [
    {
     "data": {
      "text/plain": [
       "id     date   year   month  day    author  title  article  url    section  publication\n",
       "False  False  False  False  False  False   False  False    False  False    False          946517\n",
       "                                   True    False  False    False  False    False          806893\n",
       "                                   False   False  False    False  True     False          713027\n",
       "                                   True    False  False    False  True     False          117712\n",
       "                                                  True     False  True     False           64961\n",
       "                                                                  False    False           18923\n",
       "                                                           True   True     True            12577\n",
       "                                   False   False  True     False  False    False            4267\n",
       "                                                                  True     False            3964\n",
       "dtype: int64"
      ]
     },
     "execution_count": 21,
     "metadata": {},
     "output_type": "execute_result"
    }
   ],
   "source": [
    "df.isnull().value_counts()"
   ]
  },
  {
   "cell_type": "markdown",
   "metadata": {},
   "source": [
    "## Test gensim preprocess with 5 rows"
   ]
  },
  {
   "cell_type": "code",
   "execution_count": 22,
   "metadata": {},
   "outputs": [
    {
     "data": {
      "text/plain": [
       "['we should take concerns about the health of liberal democracy seriously',\n",
       " 'colts gm ryan grigson says andrew luck contract makes it difficult to build the team',\n",
       " 'trump denies report he ordered mueller fired',\n",
       " 'france sarkozy reveals his passions but insists no come back on cards',\n",
       " 'paris hilton woman in black for uncle monty funeral']"
      ]
     },
     "execution_count": 22,
     "metadata": {},
     "output_type": "execute_result"
    }
   ],
   "source": [
    "docs = df.title.head().tolist()\n",
    "[ ' '.join(simple_preprocess(strip_tags(doc), deacc=True)) for doc in docs]"
   ]
  },
  {
   "cell_type": "markdown",
   "metadata": {},
   "source": [
    "## Prepare titles csv with only 3 columns [`id`, `title_clean`, `num_words_title`]"
   ]
  },
  {
   "cell_type": "markdown",
   "metadata": {},
   "source": [
    "### Remove duplicate titles"
   ]
  },
  {
   "cell_type": "code",
   "execution_count": 62,
   "metadata": {},
   "outputs": [
    {
     "data": {
      "text/plain": [
       "138957"
      ]
     },
     "execution_count": 62,
     "metadata": {},
     "output_type": "execute_result"
    }
   ],
   "source": [
    "dups = df[~df.title.duplicated() & df.title.duplicated(keep=False)]\n",
    "len(dups)"
   ]
  },
  {
   "cell_type": "code",
   "execution_count": 64,
   "metadata": {},
   "outputs": [
    {
     "data": {
      "text/plain": [
       "2342305"
      ]
     },
     "execution_count": 64,
     "metadata": {},
     "output_type": "execute_result"
    }
   ],
   "source": [
    "nondups = df[~df.title.duplicated(keep=False)]\n",
    "len(nondups)"
   ]
  },
  {
   "cell_type": "code",
   "execution_count": 66,
   "metadata": {},
   "outputs": [],
   "source": [
    "titles = pd.concat([dups, nondups])[['id', 'title']]"
   ]
  },
  {
   "cell_type": "code",
   "execution_count": 67,
   "metadata": {},
   "outputs": [
    {
     "data": {
      "text/plain": [
       "France's Sarkozy reveals his 'Passions' but insists no come-back on cards                        1\n",
       "Trump closing strong | TheHill                                                                   1\n",
       "Poll: Half think Clinton lying about health | TheHill                                            1\n",
       "Trump campaign left out of Alaska voter guide | TheHill                                          1\n",
       "Pope Francis says he won't try to alter Trump's stances on environment, immigration | TheHill    1\n",
       "                                                                                                ..\n",
       "RBS may use its surplus capital to pay one-off dividend -the Times                               1\n",
       "Katy Perry Has More to Say About Taylor Swift                                                    1\n",
       "Dancing with the Stars Finale: All About Ginger Zee, Paige VanZant, Nyle DiMarco                 1\n",
       "Jacob Tremblay spent a day at work with his hot detective dad                                    1\n",
       "Ruth Bader Ginsburg Still Working Out with Trainer Despite Coronavirus                           1\n",
       "Name: title, Length: 2481262, dtype: int64"
      ]
     },
     "execution_count": 67,
     "metadata": {},
     "output_type": "execute_result"
    }
   ],
   "source": [
    "titles.title.value_counts()"
   ]
  },
  {
   "cell_type": "markdown",
   "metadata": {},
   "source": [
    "### Make `title_clean`"
   ]
  },
  {
   "cell_type": "code",
   "execution_count": 69,
   "metadata": {},
   "outputs": [],
   "source": [
    "titles['title_clean'] = [ ' '.join(simple_preprocess(strip_tags(doc), deacc=True)) for doc in titles.title.tolist() ]"
   ]
  },
  {
   "cell_type": "code",
   "execution_count": 70,
   "metadata": {},
   "outputs": [
    {
     "data": {
      "text/html": [
       "<div>\n",
       "<style scoped>\n",
       "    .dataframe tbody tr th:only-of-type {\n",
       "        vertical-align: middle;\n",
       "    }\n",
       "\n",
       "    .dataframe tbody tr th {\n",
       "        vertical-align: top;\n",
       "    }\n",
       "\n",
       "    .dataframe thead th {\n",
       "        text-align: right;\n",
       "    }\n",
       "</style>\n",
       "<table border=\"1\" class=\"dataframe\">\n",
       "  <thead>\n",
       "    <tr style=\"text-align: right;\">\n",
       "      <th></th>\n",
       "      <th>id</th>\n",
       "      <th>title</th>\n",
       "      <th>title_clean</th>\n",
       "    </tr>\n",
       "  </thead>\n",
       "  <tbody>\n",
       "    <tr>\n",
       "      <th>3</th>\n",
       "      <td>3</td>\n",
       "      <td>France's Sarkozy reveals his 'Passions' but insists no come-back on cards</td>\n",
       "      <td>france sarkozy reveals his passions but insists no come back on cards</td>\n",
       "    </tr>\n",
       "    <tr>\n",
       "      <th>11</th>\n",
       "      <td>11</td>\n",
       "      <td>Hudson's Bay's chairman's buyout bid pits retail versus real estate</td>\n",
       "      <td>hudson bay chairman buyout bid pits retail versus real estate</td>\n",
       "    </tr>\n",
       "    <tr>\n",
       "      <th>14</th>\n",
       "      <td>14</td>\n",
       "      <td>UK PM May presses on with bid to get Brexit deal through parliament: spokesman</td>\n",
       "      <td>uk pm may presses on with bid to get brexit deal through parliament spokesman</td>\n",
       "    </tr>\n",
       "    <tr>\n",
       "      <th>20</th>\n",
       "      <td>20</td>\n",
       "      <td>Trump warned NATO allies U.S. would go it alone if they did not spend: sources</td>\n",
       "      <td>trump warned nato allies would go it alone if they did not spend sources</td>\n",
       "    </tr>\n",
       "    <tr>\n",
       "      <th>22</th>\n",
       "      <td>22</td>\n",
       "      <td>Wells Fargo to pay $575 million in settlement with U.S. states</td>\n",
       "      <td>wells fargo to pay million in settlement with states</td>\n",
       "    </tr>\n",
       "    <tr>\n",
       "      <th>27</th>\n",
       "      <td>27</td>\n",
       "      <td>Exclusive: Britain's financial heartland unbowed as Brexit risks deepen</td>\n",
       "      <td>exclusive britain financial heartland unbowed as brexit risks deepen</td>\n",
       "    </tr>\n",
       "    <tr>\n",
       "      <th>33</th>\n",
       "      <td>33</td>\n",
       "      <td>U.S. June sales a mixed bag for automakers; SUVs, trucks still strong</td>\n",
       "      <td>june sales mixed bag for automakers suvs trucks still strong</td>\n",
       "    </tr>\n",
       "    <tr>\n",
       "      <th>37</th>\n",
       "      <td>37</td>\n",
       "      <td>FCC probes whether Sinclair misled agency during failed Tribune deal</td>\n",
       "      <td>fcc probes whether sinclair misled agency during failed tribune deal</td>\n",
       "    </tr>\n",
       "    <tr>\n",
       "      <th>48</th>\n",
       "      <td>48</td>\n",
       "      <td>IEA concerned about Middle East tensions, stands ready to act</td>\n",
       "      <td>iea concerned about middle east tensions stands ready to act</td>\n",
       "    </tr>\n",
       "    <tr>\n",
       "      <th>52</th>\n",
       "      <td>52</td>\n",
       "      <td>U.S. lawmakers ask for disclosure of number of Americans under surveillance</td>\n",
       "      <td>lawmakers ask for disclosure of number of americans under surveillance</td>\n",
       "    </tr>\n",
       "  </tbody>\n",
       "</table>\n",
       "</div>"
      ],
      "text/plain": [
       "    id  \\\n",
       "3    3   \n",
       "11  11   \n",
       "14  14   \n",
       "20  20   \n",
       "22  22   \n",
       "27  27   \n",
       "33  33   \n",
       "37  37   \n",
       "48  48   \n",
       "52  52   \n",
       "\n",
       "                                                                             title  \\\n",
       "3        France's Sarkozy reveals his 'Passions' but insists no come-back on cards   \n",
       "11             Hudson's Bay's chairman's buyout bid pits retail versus real estate   \n",
       "14  UK PM May presses on with bid to get Brexit deal through parliament: spokesman   \n",
       "20  Trump warned NATO allies U.S. would go it alone if they did not spend: sources   \n",
       "22                  Wells Fargo to pay $575 million in settlement with U.S. states   \n",
       "27         Exclusive: Britain's financial heartland unbowed as Brexit risks deepen   \n",
       "33           U.S. June sales a mixed bag for automakers; SUVs, trucks still strong   \n",
       "37            FCC probes whether Sinclair misled agency during failed Tribune deal   \n",
       "48                   IEA concerned about Middle East tensions, stands ready to act   \n",
       "52     U.S. lawmakers ask for disclosure of number of Americans under surveillance   \n",
       "\n",
       "                                                                      title_clean  \n",
       "3           france sarkozy reveals his passions but insists no come back on cards  \n",
       "11                  hudson bay chairman buyout bid pits retail versus real estate  \n",
       "14  uk pm may presses on with bid to get brexit deal through parliament spokesman  \n",
       "20       trump warned nato allies would go it alone if they did not spend sources  \n",
       "22                           wells fargo to pay million in settlement with states  \n",
       "27           exclusive britain financial heartland unbowed as brexit risks deepen  \n",
       "33                   june sales mixed bag for automakers suvs trucks still strong  \n",
       "37           fcc probes whether sinclair misled agency during failed tribune deal  \n",
       "48                   iea concerned about middle east tensions stands ready to act  \n",
       "52         lawmakers ask for disclosure of number of americans under surveillance  "
      ]
     },
     "execution_count": 70,
     "metadata": {},
     "output_type": "execute_result"
    }
   ],
   "source": [
    "titles.head(10)"
   ]
  },
  {
   "cell_type": "markdown",
   "metadata": {},
   "source": [
    "### Drop original `title` column"
   ]
  },
  {
   "cell_type": "code",
   "execution_count": 72,
   "metadata": {},
   "outputs": [],
   "source": [
    "titles.drop('title', axis=1, inplace=True)"
   ]
  },
  {
   "cell_type": "code",
   "execution_count": 73,
   "metadata": {},
   "outputs": [
    {
     "data": {
      "text/html": [
       "<div>\n",
       "<style scoped>\n",
       "    .dataframe tbody tr th:only-of-type {\n",
       "        vertical-align: middle;\n",
       "    }\n",
       "\n",
       "    .dataframe tbody tr th {\n",
       "        vertical-align: top;\n",
       "    }\n",
       "\n",
       "    .dataframe thead th {\n",
       "        text-align: right;\n",
       "    }\n",
       "</style>\n",
       "<table border=\"1\" class=\"dataframe\">\n",
       "  <thead>\n",
       "    <tr style=\"text-align: right;\">\n",
       "      <th></th>\n",
       "      <th>id</th>\n",
       "      <th>title_clean</th>\n",
       "    </tr>\n",
       "  </thead>\n",
       "  <tbody>\n",
       "    <tr>\n",
       "      <th>3</th>\n",
       "      <td>3</td>\n",
       "      <td>france sarkozy reveals his passions but insists no come back on cards</td>\n",
       "    </tr>\n",
       "    <tr>\n",
       "      <th>11</th>\n",
       "      <td>11</td>\n",
       "      <td>hudson bay chairman buyout bid pits retail versus real estate</td>\n",
       "    </tr>\n",
       "    <tr>\n",
       "      <th>14</th>\n",
       "      <td>14</td>\n",
       "      <td>uk pm may presses on with bid to get brexit deal through parliament spokesman</td>\n",
       "    </tr>\n",
       "    <tr>\n",
       "      <th>20</th>\n",
       "      <td>20</td>\n",
       "      <td>trump warned nato allies would go it alone if they did not spend sources</td>\n",
       "    </tr>\n",
       "    <tr>\n",
       "      <th>22</th>\n",
       "      <td>22</td>\n",
       "      <td>wells fargo to pay million in settlement with states</td>\n",
       "    </tr>\n",
       "    <tr>\n",
       "      <th>27</th>\n",
       "      <td>27</td>\n",
       "      <td>exclusive britain financial heartland unbowed as brexit risks deepen</td>\n",
       "    </tr>\n",
       "    <tr>\n",
       "      <th>33</th>\n",
       "      <td>33</td>\n",
       "      <td>june sales mixed bag for automakers suvs trucks still strong</td>\n",
       "    </tr>\n",
       "    <tr>\n",
       "      <th>37</th>\n",
       "      <td>37</td>\n",
       "      <td>fcc probes whether sinclair misled agency during failed tribune deal</td>\n",
       "    </tr>\n",
       "    <tr>\n",
       "      <th>48</th>\n",
       "      <td>48</td>\n",
       "      <td>iea concerned about middle east tensions stands ready to act</td>\n",
       "    </tr>\n",
       "    <tr>\n",
       "      <th>52</th>\n",
       "      <td>52</td>\n",
       "      <td>lawmakers ask for disclosure of number of americans under surveillance</td>\n",
       "    </tr>\n",
       "  </tbody>\n",
       "</table>\n",
       "</div>"
      ],
      "text/plain": [
       "    id  \\\n",
       "3    3   \n",
       "11  11   \n",
       "14  14   \n",
       "20  20   \n",
       "22  22   \n",
       "27  27   \n",
       "33  33   \n",
       "37  37   \n",
       "48  48   \n",
       "52  52   \n",
       "\n",
       "                                                                      title_clean  \n",
       "3           france sarkozy reveals his passions but insists no come back on cards  \n",
       "11                  hudson bay chairman buyout bid pits retail versus real estate  \n",
       "14  uk pm may presses on with bid to get brexit deal through parliament spokesman  \n",
       "20       trump warned nato allies would go it alone if they did not spend sources  \n",
       "22                           wells fargo to pay million in settlement with states  \n",
       "27           exclusive britain financial heartland unbowed as brexit risks deepen  \n",
       "33                   june sales mixed bag for automakers suvs trucks still strong  \n",
       "37           fcc probes whether sinclair misled agency during failed tribune deal  \n",
       "48                   iea concerned about middle east tensions stands ready to act  \n",
       "52         lawmakers ask for disclosure of number of americans under surveillance  "
      ]
     },
     "execution_count": 73,
     "metadata": {},
     "output_type": "execute_result"
    }
   ],
   "source": [
    "titles.head(10)"
   ]
  },
  {
   "cell_type": "markdown",
   "metadata": {},
   "source": [
    "### Add `num_words_title`"
   ]
  },
  {
   "cell_type": "code",
   "execution_count": 102,
   "metadata": {},
   "outputs": [],
   "source": [
    "titles['num_words_title'] = titles.apply(lambda x: len(x.title_clean.split(' ')), axis=1)"
   ]
  },
  {
   "cell_type": "code",
   "execution_count": 103,
   "metadata": {},
   "outputs": [
    {
     "data": {
      "text/html": [
       "<div>\n",
       "<style scoped>\n",
       "    .dataframe tbody tr th:only-of-type {\n",
       "        vertical-align: middle;\n",
       "    }\n",
       "\n",
       "    .dataframe tbody tr th {\n",
       "        vertical-align: top;\n",
       "    }\n",
       "\n",
       "    .dataframe thead th {\n",
       "        text-align: right;\n",
       "    }\n",
       "</style>\n",
       "<table border=\"1\" class=\"dataframe\">\n",
       "  <thead>\n",
       "    <tr style=\"text-align: right;\">\n",
       "      <th></th>\n",
       "      <th>id</th>\n",
       "      <th>title_clean</th>\n",
       "      <th>num_words_title</th>\n",
       "    </tr>\n",
       "  </thead>\n",
       "  <tbody>\n",
       "    <tr>\n",
       "      <th>3</th>\n",
       "      <td>3</td>\n",
       "      <td>france sarkozy reveals his passions but insists no come back on cards</td>\n",
       "      <td>12</td>\n",
       "    </tr>\n",
       "    <tr>\n",
       "      <th>11</th>\n",
       "      <td>11</td>\n",
       "      <td>hudson bay chairman buyout bid pits retail versus real estate</td>\n",
       "      <td>10</td>\n",
       "    </tr>\n",
       "    <tr>\n",
       "      <th>14</th>\n",
       "      <td>14</td>\n",
       "      <td>uk pm may presses on with bid to get brexit deal through parliament spokesman</td>\n",
       "      <td>14</td>\n",
       "    </tr>\n",
       "    <tr>\n",
       "      <th>20</th>\n",
       "      <td>20</td>\n",
       "      <td>trump warned nato allies would go it alone if they did not spend sources</td>\n",
       "      <td>14</td>\n",
       "    </tr>\n",
       "    <tr>\n",
       "      <th>22</th>\n",
       "      <td>22</td>\n",
       "      <td>wells fargo to pay million in settlement with states</td>\n",
       "      <td>9</td>\n",
       "    </tr>\n",
       "  </tbody>\n",
       "</table>\n",
       "</div>"
      ],
      "text/plain": [
       "    id  \\\n",
       "3    3   \n",
       "11  11   \n",
       "14  14   \n",
       "20  20   \n",
       "22  22   \n",
       "\n",
       "                                                                      title_clean  \\\n",
       "3           france sarkozy reveals his passions but insists no come back on cards   \n",
       "11                  hudson bay chairman buyout bid pits retail versus real estate   \n",
       "14  uk pm may presses on with bid to get brexit deal through parliament spokesman   \n",
       "20       trump warned nato allies would go it alone if they did not spend sources   \n",
       "22                           wells fargo to pay million in settlement with states   \n",
       "\n",
       "    num_words_title  \n",
       "3                12  \n",
       "11               10  \n",
       "14               14  \n",
       "20               14  \n",
       "22                9  "
      ]
     },
     "execution_count": 103,
     "metadata": {},
     "output_type": "execute_result"
    }
   ],
   "source": [
    "titles.head()"
   ]
  },
  {
   "cell_type": "markdown",
   "metadata": {},
   "source": [
    "### Save to file"
   ]
  },
  {
   "cell_type": "code",
   "execution_count": 104,
   "metadata": {},
   "outputs": [],
   "source": [
    "titles.to_csv('news2.7m-gensim-titles.csv', index=False)"
   ]
  },
  {
   "cell_type": "markdown",
   "metadata": {},
   "source": [
    "## Prepare articles csv with only 3 columns [`id`, `article`, `nun_words_article`]"
   ]
  },
  {
   "cell_type": "markdown",
   "metadata": {},
   "source": [
    "### Remove duplicate articles"
   ]
  },
  {
   "cell_type": "code",
   "execution_count": 22,
   "metadata": {},
   "outputs": [
    {
     "data": {
      "text/plain": [
       "90235"
      ]
     },
     "execution_count": 22,
     "metadata": {},
     "output_type": "execute_result"
    }
   ],
   "source": [
    "dups = df[~df.article.duplicated() & df.article.duplicated(keep=False)]\n",
    "len(dups)"
   ]
  },
  {
   "cell_type": "code",
   "execution_count": 23,
   "metadata": {},
   "outputs": [
    {
     "data": {
      "text/plain": [
       "2385284"
      ]
     },
     "execution_count": 23,
     "metadata": {},
     "output_type": "execute_result"
    }
   ],
   "source": [
    "nondups = df[~df.article.duplicated(keep=False)]\n",
    "len(nondups)"
   ]
  },
  {
   "cell_type": "code",
   "execution_count": 24,
   "metadata": {},
   "outputs": [],
   "source": [
    "articles = pd.concat([dups, nondups])[['id', 'article']]"
   ]
  },
  {
   "cell_type": "code",
   "execution_count": 25,
   "metadata": {},
   "outputs": [
    {
     "data": {
      "text/plain": [
       "1"
      ]
     },
     "execution_count": 25,
     "metadata": {},
     "output_type": "execute_result"
    }
   ],
   "source": [
    "articles.article.value_counts()[0]"
   ]
  },
  {
   "cell_type": "code",
   "execution_count": 26,
   "metadata": {},
   "outputs": [
    {
     "data": {
      "text/plain": [
       "2475519"
      ]
     },
     "execution_count": 26,
     "metadata": {},
     "output_type": "execute_result"
    }
   ],
   "source": [
    "len(articles)"
   ]
  },
  {
   "cell_type": "markdown",
   "metadata": {},
   "source": [
    "### Drop null article"
   ]
  },
  {
   "cell_type": "code",
   "execution_count": 28,
   "metadata": {},
   "outputs": [
    {
     "data": {
      "text/html": [
       "<div>\n",
       "<style scoped>\n",
       "    .dataframe tbody tr th:only-of-type {\n",
       "        vertical-align: middle;\n",
       "    }\n",
       "\n",
       "    .dataframe tbody tr th {\n",
       "        vertical-align: top;\n",
       "    }\n",
       "\n",
       "    .dataframe thead th {\n",
       "        text-align: right;\n",
       "    }\n",
       "</style>\n",
       "<table border=\"1\" class=\"dataframe\">\n",
       "  <thead>\n",
       "    <tr style=\"text-align: right;\">\n",
       "      <th></th>\n",
       "      <th>id</th>\n",
       "      <th>article</th>\n",
       "    </tr>\n",
       "  </thead>\n",
       "  <tbody>\n",
       "    <tr>\n",
       "      <th>471</th>\n",
       "      <td>471</td>\n",
       "      <td>NaN</td>\n",
       "    </tr>\n",
       "  </tbody>\n",
       "</table>\n",
       "</div>"
      ],
      "text/plain": [
       "      id article\n",
       "471  471     NaN"
      ]
     },
     "execution_count": 28,
     "metadata": {},
     "output_type": "execute_result"
    }
   ],
   "source": [
    "articles[articles.apply(lambda x: type(x.article)!=str, axis=1)]"
   ]
  },
  {
   "cell_type": "code",
   "execution_count": 27,
   "metadata": {},
   "outputs": [
    {
     "data": {
      "text/plain": [
       "2475518"
      ]
     },
     "execution_count": 27,
     "metadata": {},
     "output_type": "execute_result"
    }
   ],
   "source": [
    "articles.drop(articles.loc[articles.article.isnull()].index, inplace=True)\n",
    "len(articles)"
   ]
  },
  {
   "cell_type": "markdown",
   "metadata": {},
   "source": [
    "### Make `article_clean`"
   ]
  },
  {
   "cell_type": "code",
   "execution_count": 28,
   "metadata": {},
   "outputs": [
    {
     "data": {
      "text/plain": [
       "0"
      ]
     },
     "execution_count": 28,
     "metadata": {},
     "output_type": "execute_result"
    }
   ],
   "source": [
    "import gc\n",
    "del df\n",
    "gc.collect()"
   ]
  },
  {
   "cell_type": "code",
   "execution_count": 34,
   "metadata": {},
   "outputs": [],
   "source": [
    "articles['article_clean'] = [ ' '.join(simple_preprocess(strip_tags(doc), deacc=True)) for doc in articles.article.tolist() ]"
   ]
  },
  {
   "cell_type": "markdown",
   "metadata": {},
   "source": [
    "### Drop original `article` column"
   ]
  },
  {
   "cell_type": "code",
   "execution_count": 35,
   "metadata": {},
   "outputs": [],
   "source": [
    "articles = articles.drop('article', axis=1)"
   ]
  },
  {
   "cell_type": "code",
   "execution_count": 36,
   "metadata": {},
   "outputs": [
    {
     "data": {
      "text/html": [
       "<div>\n",
       "<style scoped>\n",
       "    .dataframe tbody tr th:only-of-type {\n",
       "        vertical-align: middle;\n",
       "    }\n",
       "\n",
       "    .dataframe tbody tr th {\n",
       "        vertical-align: top;\n",
       "    }\n",
       "\n",
       "    .dataframe thead th {\n",
       "        text-align: right;\n",
       "    }\n",
       "</style>\n",
       "<table border=\"1\" class=\"dataframe\">\n",
       "  <thead>\n",
       "    <tr style=\"text-align: right;\">\n",
       "      <th></th>\n",
       "      <th>id</th>\n",
       "      <th>article_clean</th>\n",
       "    </tr>\n",
       "  </thead>\n",
       "  <tbody>\n",
       "    <tr>\n",
       "      <th>3</th>\n",
       "      <td>3</td>\n",
       "      <td>paris reuters former french president nicolas sarkozy published new memoir on thursday but was quick to dismiss speculation he might ret...</td>\n",
       "    </tr>\n",
       "    <tr>\n",
       "      <th>11</th>\n",
       "      <td>11</td>\n",
       "      <td>reuters the success of hudson bay co executive chairman richard baker billion bid to take the department store operator private hinges o...</td>\n",
       "    </tr>\n",
       "    <tr>\n",
       "      <th>33</th>\n",
       "      <td>33</td>\n",
       "      <td>reuters major automakers on tuesday posted mixed sales results for june and the second quarter with demand still fairly strong for suvs ...</td>\n",
       "    </tr>\n",
       "    <tr>\n",
       "      <th>37</th>\n",
       "      <td>37</td>\n",
       "      <td>washington reuters shares in sinclair broadcast group inc fell by after the federal communications commission disclosed it has opened an...</td>\n",
       "    </tr>\n",
       "    <tr>\n",
       "      <th>48</th>\n",
       "      <td>48</td>\n",
       "      <td>dublin reuters the international energy agency iea is very concerned about the impact that tensions in the middle east may have on globa...</td>\n",
       "    </tr>\n",
       "    <tr>\n",
       "      <th>55</th>\n",
       "      <td>55</td>\n",
       "      <td>winnipeg manitoba calgary alberta june reuters ears about oil spills into the great lakes from two aging pipelines have flared raising d...</td>\n",
       "    </tr>\n",
       "    <tr>\n",
       "      <th>56</th>\n",
       "      <td>56</td>\n",
       "      <td>reuters wpp wpp is in exclusive talks to sell majority stake in its data analytics unit kantar to private equity firm bain capital it sa...</td>\n",
       "    </tr>\n",
       "    <tr>\n",
       "      <th>59</th>\n",
       "      <td>59</td>\n",
       "      <td>budapest reuters hungary has no evidence that equipment from chinese telecoms giant huawei poses security threat government minister sai...</td>\n",
       "    </tr>\n",
       "    <tr>\n",
       "      <th>67</th>\n",
       "      <td>67</td>\n",
       "      <td>warsaw reuters an examiner was run over and killed by year old woman taking her driving test in the southern polish city of rybnik on mo...</td>\n",
       "    </tr>\n",
       "    <tr>\n",
       "      <th>73</th>\n",
       "      <td>73</td>\n",
       "      <td>brussels reuters nato and russia did not make significant progress on saving the intermediate range nuclear forces treaty inf in talks a...</td>\n",
       "    </tr>\n",
       "  </tbody>\n",
       "</table>\n",
       "</div>"
      ],
      "text/plain": [
       "    id  \\\n",
       "3    3   \n",
       "11  11   \n",
       "33  33   \n",
       "37  37   \n",
       "48  48   \n",
       "55  55   \n",
       "56  56   \n",
       "59  59   \n",
       "67  67   \n",
       "73  73   \n",
       "\n",
       "                                                                                                                                  article_clean  \n",
       "3   paris reuters former french president nicolas sarkozy published new memoir on thursday but was quick to dismiss speculation he might ret...  \n",
       "11  reuters the success of hudson bay co executive chairman richard baker billion bid to take the department store operator private hinges o...  \n",
       "33  reuters major automakers on tuesday posted mixed sales results for june and the second quarter with demand still fairly strong for suvs ...  \n",
       "37  washington reuters shares in sinclair broadcast group inc fell by after the federal communications commission disclosed it has opened an...  \n",
       "48  dublin reuters the international energy agency iea is very concerned about the impact that tensions in the middle east may have on globa...  \n",
       "55  winnipeg manitoba calgary alberta june reuters ears about oil spills into the great lakes from two aging pipelines have flared raising d...  \n",
       "56  reuters wpp wpp is in exclusive talks to sell majority stake in its data analytics unit kantar to private equity firm bain capital it sa...  \n",
       "59  budapest reuters hungary has no evidence that equipment from chinese telecoms giant huawei poses security threat government minister sai...  \n",
       "67  warsaw reuters an examiner was run over and killed by year old woman taking her driving test in the southern polish city of rybnik on mo...  \n",
       "73  brussels reuters nato and russia did not make significant progress on saving the intermediate range nuclear forces treaty inf in talks a...  "
      ]
     },
     "execution_count": 36,
     "metadata": {},
     "output_type": "execute_result"
    }
   ],
   "source": [
    "articles.head(10)"
   ]
  },
  {
   "cell_type": "markdown",
   "metadata": {},
   "source": [
    "### Add `num_words_article`"
   ]
  },
  {
   "cell_type": "code",
   "execution_count": 37,
   "metadata": {},
   "outputs": [],
   "source": [
    "articles['num_words_article'] = articles.apply(lambda x: len(x.article_clean.split(' ')), axis=1)"
   ]
  },
  {
   "cell_type": "code",
   "execution_count": 38,
   "metadata": {},
   "outputs": [
    {
     "data": {
      "text/html": [
       "<div>\n",
       "<style scoped>\n",
       "    .dataframe tbody tr th:only-of-type {\n",
       "        vertical-align: middle;\n",
       "    }\n",
       "\n",
       "    .dataframe tbody tr th {\n",
       "        vertical-align: top;\n",
       "    }\n",
       "\n",
       "    .dataframe thead th {\n",
       "        text-align: right;\n",
       "    }\n",
       "</style>\n",
       "<table border=\"1\" class=\"dataframe\">\n",
       "  <thead>\n",
       "    <tr style=\"text-align: right;\">\n",
       "      <th></th>\n",
       "      <th>id</th>\n",
       "      <th>article_clean</th>\n",
       "      <th>num_words_article</th>\n",
       "    </tr>\n",
       "  </thead>\n",
       "  <tbody>\n",
       "    <tr>\n",
       "      <th>3</th>\n",
       "      <td>3</td>\n",
       "      <td>paris reuters former french president nicolas sarkozy published new memoir on thursday but was quick to dismiss speculation he might ret...</td>\n",
       "      <td>364</td>\n",
       "    </tr>\n",
       "    <tr>\n",
       "      <th>11</th>\n",
       "      <td>11</td>\n",
       "      <td>reuters the success of hudson bay co executive chairman richard baker billion bid to take the department store operator private hinges o...</td>\n",
       "      <td>827</td>\n",
       "    </tr>\n",
       "    <tr>\n",
       "      <th>33</th>\n",
       "      <td>33</td>\n",
       "      <td>reuters major automakers on tuesday posted mixed sales results for june and the second quarter with demand still fairly strong for suvs ...</td>\n",
       "      <td>563</td>\n",
       "    </tr>\n",
       "    <tr>\n",
       "      <th>37</th>\n",
       "      <td>37</td>\n",
       "      <td>washington reuters shares in sinclair broadcast group inc fell by after the federal communications commission disclosed it has opened an...</td>\n",
       "      <td>428</td>\n",
       "    </tr>\n",
       "    <tr>\n",
       "      <th>48</th>\n",
       "      <td>48</td>\n",
       "      <td>dublin reuters the international energy agency iea is very concerned about the impact that tensions in the middle east may have on globa...</td>\n",
       "      <td>322</td>\n",
       "    </tr>\n",
       "    <tr>\n",
       "      <th>55</th>\n",
       "      <td>55</td>\n",
       "      <td>winnipeg manitoba calgary alberta june reuters ears about oil spills into the great lakes from two aging pipelines have flared raising d...</td>\n",
       "      <td>616</td>\n",
       "    </tr>\n",
       "    <tr>\n",
       "      <th>56</th>\n",
       "      <td>56</td>\n",
       "      <td>reuters wpp wpp is in exclusive talks to sell majority stake in its data analytics unit kantar to private equity firm bain capital it sa...</td>\n",
       "      <td>543</td>\n",
       "    </tr>\n",
       "    <tr>\n",
       "      <th>59</th>\n",
       "      <td>59</td>\n",
       "      <td>budapest reuters hungary has no evidence that equipment from chinese telecoms giant huawei poses security threat government minister sai...</td>\n",
       "      <td>567</td>\n",
       "    </tr>\n",
       "    <tr>\n",
       "      <th>67</th>\n",
       "      <td>67</td>\n",
       "      <td>warsaw reuters an examiner was run over and killed by year old woman taking her driving test in the southern polish city of rybnik on mo...</td>\n",
       "      <td>173</td>\n",
       "    </tr>\n",
       "    <tr>\n",
       "      <th>73</th>\n",
       "      <td>73</td>\n",
       "      <td>brussels reuters nato and russia did not make significant progress on saving the intermediate range nuclear forces treaty inf in talks a...</td>\n",
       "      <td>239</td>\n",
       "    </tr>\n",
       "  </tbody>\n",
       "</table>\n",
       "</div>"
      ],
      "text/plain": [
       "    id  \\\n",
       "3    3   \n",
       "11  11   \n",
       "33  33   \n",
       "37  37   \n",
       "48  48   \n",
       "55  55   \n",
       "56  56   \n",
       "59  59   \n",
       "67  67   \n",
       "73  73   \n",
       "\n",
       "                                                                                                                                  article_clean  \\\n",
       "3   paris reuters former french president nicolas sarkozy published new memoir on thursday but was quick to dismiss speculation he might ret...   \n",
       "11  reuters the success of hudson bay co executive chairman richard baker billion bid to take the department store operator private hinges o...   \n",
       "33  reuters major automakers on tuesday posted mixed sales results for june and the second quarter with demand still fairly strong for suvs ...   \n",
       "37  washington reuters shares in sinclair broadcast group inc fell by after the federal communications commission disclosed it has opened an...   \n",
       "48  dublin reuters the international energy agency iea is very concerned about the impact that tensions in the middle east may have on globa...   \n",
       "55  winnipeg manitoba calgary alberta june reuters ears about oil spills into the great lakes from two aging pipelines have flared raising d...   \n",
       "56  reuters wpp wpp is in exclusive talks to sell majority stake in its data analytics unit kantar to private equity firm bain capital it sa...   \n",
       "59  budapest reuters hungary has no evidence that equipment from chinese telecoms giant huawei poses security threat government minister sai...   \n",
       "67  warsaw reuters an examiner was run over and killed by year old woman taking her driving test in the southern polish city of rybnik on mo...   \n",
       "73  brussels reuters nato and russia did not make significant progress on saving the intermediate range nuclear forces treaty inf in talks a...   \n",
       "\n",
       "    num_words_article  \n",
       "3                 364  \n",
       "11                827  \n",
       "33                563  \n",
       "37                428  \n",
       "48                322  \n",
       "55                616  \n",
       "56                543  \n",
       "59                567  \n",
       "67                173  \n",
       "73                239  "
      ]
     },
     "execution_count": 38,
     "metadata": {},
     "output_type": "execute_result"
    }
   ],
   "source": [
    "articles.head(10)"
   ]
  },
  {
   "cell_type": "markdown",
   "metadata": {},
   "source": [
    "### Save to file"
   ]
  },
  {
   "cell_type": "code",
   "execution_count": 39,
   "metadata": {},
   "outputs": [],
   "source": [
    "articles.to_csv('news2.7m-gensim-articles.csv', index=False)"
   ]
  },
  {
   "cell_type": "markdown",
   "metadata": {},
   "source": [
    "## Prepare autsecpub csv with 4 columns"
   ]
  },
  {
   "cell_type": "markdown",
   "metadata": {},
   "source": [
    "### Remove duplicated urls"
   ]
  },
  {
   "cell_type": "code",
   "execution_count": 26,
   "metadata": {},
   "outputs": [
    {
     "data": {
      "text/plain": [
       "6"
      ]
     },
     "execution_count": 26,
     "metadata": {},
     "output_type": "execute_result"
    }
   ],
   "source": [
    "dups = df[~df.url.duplicated() & df.url.duplicated(keep=False)]\n",
    "len(dups)"
   ]
  },
  {
   "cell_type": "code",
   "execution_count": 27,
   "metadata": {},
   "outputs": [
    {
     "data": {
      "text/plain": [
       "2676254"
      ]
     },
     "execution_count": 27,
     "metadata": {},
     "output_type": "execute_result"
    }
   ],
   "source": [
    "nondups = df[~df.url.duplicated(keep=False)]\n",
    "len(nondups)"
   ]
  },
  {
   "cell_type": "code",
   "execution_count": 28,
   "metadata": {},
   "outputs": [],
   "source": [
    "autsecpub = pd.concat([dups, nondups])[['id', 'author', 'section', 'publication']]"
   ]
  },
  {
   "cell_type": "code",
   "execution_count": 29,
   "metadata": {},
   "outputs": [
    {
     "data": {
      "text/plain": [
       "2676260"
      ]
     },
     "execution_count": 29,
     "metadata": {},
     "output_type": "execute_result"
    }
   ],
   "source": [
    "len(autsecpub)"
   ]
  },
  {
   "cell_type": "markdown",
   "metadata": {},
   "source": [
    "### Make `author_clean` and `section_clean` columns"
   ]
  },
  {
   "cell_type": "code",
   "execution_count": 32,
   "metadata": {},
   "outputs": [],
   "source": [
    "autsecpub = autsecpub.fillna('')"
   ]
  },
  {
   "cell_type": "code",
   "execution_count": 33,
   "metadata": {},
   "outputs": [],
   "source": [
    "autsecpub['author_clean'] = [ ' '.join(simple_preprocess(strip_tags(doc), deacc=True)) for doc in autsecpub.author.tolist() ]"
   ]
  },
  {
   "cell_type": "code",
   "execution_count": 34,
   "metadata": {},
   "outputs": [],
   "source": [
    "autsecpub['section_clean'] = [ ' '.join(simple_preprocess(strip_tags(doc), deacc=True)) for doc in autsecpub.section.tolist() ]"
   ]
  },
  {
   "cell_type": "code",
   "execution_count": 45,
   "metadata": {},
   "outputs": [],
   "source": [
    "autsecpub['publication_clean'] = [ ' '.join(simple_preprocess(strip_tags(doc), deacc=True)) for doc in autsecpub.publication.tolist() ]"
   ]
  },
  {
   "cell_type": "markdown",
   "metadata": {},
   "source": [
    "### Drop the original `author` and `section` columns"
   ]
  },
  {
   "cell_type": "code",
   "execution_count": 35,
   "metadata": {},
   "outputs": [],
   "source": [
    "autsecpub.drop(['author', 'section', 'publication'], axis=1, inplace=True)"
   ]
  },
  {
   "cell_type": "code",
   "execution_count": 47,
   "metadata": {},
   "outputs": [
    {
     "data": {
      "text/plain": [
       "2676260"
      ]
     },
     "execution_count": 47,
     "metadata": {},
     "output_type": "execute_result"
    }
   ],
   "source": [
    "len(autsecpub)"
   ]
  },
  {
   "cell_type": "code",
   "execution_count": 48,
   "metadata": {},
   "outputs": [
    {
     "data": {
      "text/html": [
       "<div>\n",
       "<style scoped>\n",
       "    .dataframe tbody tr th:only-of-type {\n",
       "        vertical-align: middle;\n",
       "    }\n",
       "\n",
       "    .dataframe tbody tr th {\n",
       "        vertical-align: top;\n",
       "    }\n",
       "\n",
       "    .dataframe thead th {\n",
       "        text-align: right;\n",
       "    }\n",
       "</style>\n",
       "<table border=\"1\" class=\"dataframe\">\n",
       "  <thead>\n",
       "    <tr style=\"text-align: right;\">\n",
       "      <th></th>\n",
       "      <th>id</th>\n",
       "      <th>author_clean</th>\n",
       "      <th>section_clean</th>\n",
       "      <th>publication_clean</th>\n",
       "    </tr>\n",
       "  </thead>\n",
       "  <tbody>\n",
       "    <tr>\n",
       "      <th>4811</th>\n",
       "      <td>4811</td>\n",
       "      <td></td>\n",
       "      <td></td>\n",
       "      <td>tmz</td>\n",
       "    </tr>\n",
       "    <tr>\n",
       "      <th>49986</th>\n",
       "      <td>49986</td>\n",
       "      <td>nacho doce</td>\n",
       "      <td>world news</td>\n",
       "      <td>reuters</td>\n",
       "    </tr>\n",
       "    <tr>\n",
       "      <th>51181</th>\n",
       "      <td>51181</td>\n",
       "      <td></td>\n",
       "      <td>politics</td>\n",
       "      <td>reuters</td>\n",
       "    </tr>\n",
       "    <tr>\n",
       "      <th>62583</th>\n",
       "      <td>62583</td>\n",
       "      <td></td>\n",
       "      <td></td>\n",
       "      <td>tmz</td>\n",
       "    </tr>\n",
       "    <tr>\n",
       "      <th>848277</th>\n",
       "      <td>848277</td>\n",
       "      <td>gizmodo staff</td>\n",
       "      <td></td>\n",
       "      <td>gizmodo</td>\n",
       "    </tr>\n",
       "  </tbody>\n",
       "</table>\n",
       "</div>"
      ],
      "text/plain": [
       "            id   author_clean section_clean publication_clean\n",
       "4811      4811                                            tmz\n",
       "49986    49986     nacho doce    world news           reuters\n",
       "51181    51181                     politics           reuters\n",
       "62583    62583                                            tmz\n",
       "848277  848277  gizmodo staff                         gizmodo"
      ]
     },
     "execution_count": 48,
     "metadata": {},
     "output_type": "execute_result"
    }
   ],
   "source": [
    "autsecpub.head()"
   ]
  },
  {
   "cell_type": "markdown",
   "metadata": {},
   "source": [
    "### Save to file"
   ]
  },
  {
   "cell_type": "code",
   "execution_count": 49,
   "metadata": {},
   "outputs": [],
   "source": [
    "autsecpub.to_csv('news2.7m-gensim-autsecpub.csv', index=False)"
   ]
  },
  {
   "cell_type": "markdown",
   "metadata": {},
   "source": [
    "## Prepare metadata csv with time columns"
   ]
  },
  {
   "cell_type": "markdown",
   "metadata": {},
   "source": [
    "### Drop columns that were processed earlier"
   ]
  },
  {
   "cell_type": "code",
   "execution_count": 39,
   "metadata": {},
   "outputs": [
    {
     "data": {
      "text/plain": [
       "Index(['id', 'date', 'year', 'month', 'day', 'author', 'title', 'article',\n",
       "       'url', 'section', 'publication'],\n",
       "      dtype='object')"
      ]
     },
     "execution_count": 39,
     "metadata": {},
     "output_type": "execute_result"
    }
   ],
   "source": [
    "df.columns"
   ]
  },
  {
   "cell_type": "code",
   "execution_count": 50,
   "metadata": {},
   "outputs": [],
   "source": [
    "df.drop(['author', 'title', 'article', 'section', 'publication'], axis=1, inplace=True)"
   ]
  },
  {
   "cell_type": "code",
   "execution_count": 51,
   "metadata": {},
   "outputs": [
    {
     "data": {
      "text/plain": [
       "2688841"
      ]
     },
     "execution_count": 51,
     "metadata": {},
     "output_type": "execute_result"
    }
   ],
   "source": [
    "len(df)"
   ]
  },
  {
   "cell_type": "code",
   "execution_count": 52,
   "metadata": {},
   "outputs": [
    {
     "data": {
      "text/html": [
       "<div>\n",
       "<style scoped>\n",
       "    .dataframe tbody tr th:only-of-type {\n",
       "        vertical-align: middle;\n",
       "    }\n",
       "\n",
       "    .dataframe tbody tr th {\n",
       "        vertical-align: top;\n",
       "    }\n",
       "\n",
       "    .dataframe thead th {\n",
       "        text-align: right;\n",
       "    }\n",
       "</style>\n",
       "<table border=\"1\" class=\"dataframe\">\n",
       "  <thead>\n",
       "    <tr style=\"text-align: right;\">\n",
       "      <th></th>\n",
       "      <th>id</th>\n",
       "      <th>date</th>\n",
       "      <th>year</th>\n",
       "      <th>month</th>\n",
       "      <th>day</th>\n",
       "      <th>url</th>\n",
       "    </tr>\n",
       "  </thead>\n",
       "  <tbody>\n",
       "    <tr>\n",
       "      <th>0</th>\n",
       "      <td>0</td>\n",
       "      <td>2016-12-09 18:31:00</td>\n",
       "      <td>2016</td>\n",
       "      <td>12.0</td>\n",
       "      <td>9</td>\n",
       "      <td>https://www.vox.com/polyarchy/2016/12/9/13898340/democracy-warning-signs</td>\n",
       "    </tr>\n",
       "    <tr>\n",
       "      <th>1</th>\n",
       "      <td>1</td>\n",
       "      <td>2016-10-07 21:26:46</td>\n",
       "      <td>2016</td>\n",
       "      <td>10.0</td>\n",
       "      <td>7</td>\n",
       "      <td>https://www.businessinsider.com/colts-gm-ryan-grigson-andrew-luck-contract-2016-10</td>\n",
       "    </tr>\n",
       "    <tr>\n",
       "      <th>2</th>\n",
       "      <td>2</td>\n",
       "      <td>2018-01-26 00:00:00</td>\n",
       "      <td>2018</td>\n",
       "      <td>1.0</td>\n",
       "      <td>26</td>\n",
       "      <td>https://www.reuters.com/article/us-davos-meeting-trump-mueller/trump-denies-report-he-ordered-mueller-fired-idUSKBN1FF12A</td>\n",
       "    </tr>\n",
       "    <tr>\n",
       "      <th>3</th>\n",
       "      <td>3</td>\n",
       "      <td>2019-06-27 00:00:00</td>\n",
       "      <td>2019</td>\n",
       "      <td>6.0</td>\n",
       "      <td>27</td>\n",
       "      <td>https://www.reuters.com/article/france-politics-sarkozy/frances-sarkozy-reveals-his-passions-but-insists-no-come-back-on-cards-idUSL8N23...</td>\n",
       "    </tr>\n",
       "    <tr>\n",
       "      <th>4</th>\n",
       "      <td>4</td>\n",
       "      <td>2016-01-27 00:00:00</td>\n",
       "      <td>2016</td>\n",
       "      <td>1.0</td>\n",
       "      <td>27</td>\n",
       "      <td>https://www.tmz.com/2016/01/27/paris-hilton-monty-brinson-funeral/</td>\n",
       "    </tr>\n",
       "  </tbody>\n",
       "</table>\n",
       "</div>"
      ],
      "text/plain": [
       "   id                 date  year  month day  \\\n",
       "0   0  2016-12-09 18:31:00  2016   12.0   9   \n",
       "1   1  2016-10-07 21:26:46  2016   10.0   7   \n",
       "2   2  2018-01-26 00:00:00  2018    1.0  26   \n",
       "3   3  2019-06-27 00:00:00  2019    6.0  27   \n",
       "4   4  2016-01-27 00:00:00  2016    1.0  27   \n",
       "\n",
       "                                                                                                                                           url  \n",
       "0                                                                     https://www.vox.com/polyarchy/2016/12/9/13898340/democracy-warning-signs  \n",
       "1                                                           https://www.businessinsider.com/colts-gm-ryan-grigson-andrew-luck-contract-2016-10  \n",
       "2                    https://www.reuters.com/article/us-davos-meeting-trump-mueller/trump-denies-report-he-ordered-mueller-fired-idUSKBN1FF12A  \n",
       "3  https://www.reuters.com/article/france-politics-sarkozy/frances-sarkozy-reveals-his-passions-but-insists-no-come-back-on-cards-idUSL8N23...  \n",
       "4                                                                           https://www.tmz.com/2016/01/27/paris-hilton-monty-brinson-funeral/  "
      ]
     },
     "execution_count": 52,
     "metadata": {},
     "output_type": "execute_result"
    }
   ],
   "source": [
    "df.head()"
   ]
  },
  {
   "cell_type": "code",
   "execution_count": 53,
   "metadata": {},
   "outputs": [],
   "source": [
    "df = augment_with_time_columns(df)"
   ]
  },
  {
   "cell_type": "code",
   "execution_count": 54,
   "metadata": {},
   "outputs": [
    {
     "data": {
      "text/html": [
       "<div>\n",
       "<style scoped>\n",
       "    .dataframe tbody tr th:only-of-type {\n",
       "        vertical-align: middle;\n",
       "    }\n",
       "\n",
       "    .dataframe tbody tr th {\n",
       "        vertical-align: top;\n",
       "    }\n",
       "\n",
       "    .dataframe thead th {\n",
       "        text-align: right;\n",
       "    }\n",
       "</style>\n",
       "<table border=\"1\" class=\"dataframe\">\n",
       "  <thead>\n",
       "    <tr style=\"text-align: right;\">\n",
       "      <th></th>\n",
       "      <th>id</th>\n",
       "      <th>date</th>\n",
       "      <th>year</th>\n",
       "      <th>month</th>\n",
       "      <th>day</th>\n",
       "      <th>url</th>\n",
       "      <th>dayofweek</th>\n",
       "      <th>isweekend</th>\n",
       "      <th>weeknum</th>\n",
       "      <th>season</th>\n",
       "      <th>yearseason</th>\n",
       "      <th>quarter</th>\n",
       "      <th>yearquarter</th>\n",
       "      <th>yearmonth</th>\n",
       "    </tr>\n",
       "  </thead>\n",
       "  <tbody>\n",
       "    <tr>\n",
       "      <th>0</th>\n",
       "      <td>0</td>\n",
       "      <td>2016-12-09 18:31:00</td>\n",
       "      <td>2016</td>\n",
       "      <td>12</td>\n",
       "      <td>09</td>\n",
       "      <td>https://www.vox.com/polyarchy/2016/12/9/13898340/democracy-warning-signs</td>\n",
       "      <td>5</td>\n",
       "      <td>False</td>\n",
       "      <td>49</td>\n",
       "      <td>fall</td>\n",
       "      <td>2016-2-fall</td>\n",
       "      <td>4</td>\n",
       "      <td>2016-4</td>\n",
       "      <td>2016-12</td>\n",
       "    </tr>\n",
       "    <tr>\n",
       "      <th>1</th>\n",
       "      <td>1</td>\n",
       "      <td>2016-10-07 21:26:46</td>\n",
       "      <td>2016</td>\n",
       "      <td>10</td>\n",
       "      <td>07</td>\n",
       "      <td>https://www.businessinsider.com/colts-gm-ryan-grigson-andrew-luck-contract-2016-10</td>\n",
       "      <td>5</td>\n",
       "      <td>False</td>\n",
       "      <td>40</td>\n",
       "      <td>fall</td>\n",
       "      <td>2016-2-fall</td>\n",
       "      <td>4</td>\n",
       "      <td>2016-4</td>\n",
       "      <td>2016-10</td>\n",
       "    </tr>\n",
       "    <tr>\n",
       "      <th>2</th>\n",
       "      <td>2</td>\n",
       "      <td>2018-01-26 00:00:00</td>\n",
       "      <td>2018</td>\n",
       "      <td>01</td>\n",
       "      <td>26</td>\n",
       "      <td>https://www.reuters.com/article/us-davos-meeting-trump-mueller/trump-denies-report-he-ordered-mueller-fired-idUSKBN1FF12A</td>\n",
       "      <td>5</td>\n",
       "      <td>False</td>\n",
       "      <td>3</td>\n",
       "      <td>winter</td>\n",
       "      <td>2017-3-winter</td>\n",
       "      <td>1</td>\n",
       "      <td>2018-1</td>\n",
       "      <td>2018-01</td>\n",
       "    </tr>\n",
       "    <tr>\n",
       "      <th>3</th>\n",
       "      <td>3</td>\n",
       "      <td>2019-06-27 00:00:00</td>\n",
       "      <td>2019</td>\n",
       "      <td>06</td>\n",
       "      <td>27</td>\n",
       "      <td>https://www.reuters.com/article/france-politics-sarkozy/frances-sarkozy-reveals-his-passions-but-insists-no-come-back-on-cards-idUSL8N23...</td>\n",
       "      <td>4</td>\n",
       "      <td>False</td>\n",
       "      <td>25</td>\n",
       "      <td>summer</td>\n",
       "      <td>2019-1-summer</td>\n",
       "      <td>2</td>\n",
       "      <td>2019-2</td>\n",
       "      <td>2019-06</td>\n",
       "    </tr>\n",
       "    <tr>\n",
       "      <th>4</th>\n",
       "      <td>4</td>\n",
       "      <td>2016-01-27 00:00:00</td>\n",
       "      <td>2016</td>\n",
       "      <td>01</td>\n",
       "      <td>27</td>\n",
       "      <td>https://www.tmz.com/2016/01/27/paris-hilton-monty-brinson-funeral/</td>\n",
       "      <td>3</td>\n",
       "      <td>False</td>\n",
       "      <td>4</td>\n",
       "      <td>winter</td>\n",
       "      <td>2015-3-winter</td>\n",
       "      <td>1</td>\n",
       "      <td>2016-1</td>\n",
       "      <td>2016-01</td>\n",
       "    </tr>\n",
       "  </tbody>\n",
       "</table>\n",
       "</div>"
      ],
      "text/plain": [
       "   id                 date  year month day  \\\n",
       "0   0  2016-12-09 18:31:00  2016    12  09   \n",
       "1   1  2016-10-07 21:26:46  2016    10  07   \n",
       "2   2  2018-01-26 00:00:00  2018    01  26   \n",
       "3   3  2019-06-27 00:00:00  2019    06  27   \n",
       "4   4  2016-01-27 00:00:00  2016    01  27   \n",
       "\n",
       "                                                                                                                                           url  \\\n",
       "0                                                                     https://www.vox.com/polyarchy/2016/12/9/13898340/democracy-warning-signs   \n",
       "1                                                           https://www.businessinsider.com/colts-gm-ryan-grigson-andrew-luck-contract-2016-10   \n",
       "2                    https://www.reuters.com/article/us-davos-meeting-trump-mueller/trump-denies-report-he-ordered-mueller-fired-idUSKBN1FF12A   \n",
       "3  https://www.reuters.com/article/france-politics-sarkozy/frances-sarkozy-reveals-his-passions-but-insists-no-come-back-on-cards-idUSL8N23...   \n",
       "4                                                                           https://www.tmz.com/2016/01/27/paris-hilton-monty-brinson-funeral/   \n",
       "\n",
       "   dayofweek  isweekend  weeknum  season     yearseason  quarter yearquarter  \\\n",
       "0          5      False       49    fall    2016-2-fall        4      2016-4   \n",
       "1          5      False       40    fall    2016-2-fall        4      2016-4   \n",
       "2          5      False        3  winter  2017-3-winter        1      2018-1   \n",
       "3          4      False       25  summer  2019-1-summer        2      2019-2   \n",
       "4          3      False        4  winter  2015-3-winter        1      2016-1   \n",
       "\n",
       "  yearmonth  \n",
       "0   2016-12  \n",
       "1   2016-10  \n",
       "2   2018-01  \n",
       "3   2019-06  \n",
       "4   2016-01  "
      ]
     },
     "execution_count": 54,
     "metadata": {},
     "output_type": "execute_result"
    }
   ],
   "source": [
    "df.head()"
   ]
  },
  {
   "cell_type": "code",
   "execution_count": 55,
   "metadata": {},
   "outputs": [],
   "source": [
    "df.to_csv('news2.7m-gensim-metadata.csv', index=False)"
   ]
  }
 ],
 "metadata": {
  "kernelspec": {
   "display_name": "Python 3",
   "language": "python",
   "name": "python3"
  },
  "language_info": {
   "codemirror_mode": {
    "name": "ipython",
    "version": 3
   },
   "file_extension": ".py",
   "mimetype": "text/x-python",
   "name": "python",
   "nbconvert_exporter": "python",
   "pygments_lexer": "ipython3",
   "version": "3.8.10"
  }
 },
 "nbformat": 4,
 "nbformat_minor": 2
}
